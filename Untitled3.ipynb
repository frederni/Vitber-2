{
 "cells": [
  {
   "cell_type": "code",
   "execution_count": null,
   "metadata": {},
   "outputs": [],
   "source": [
    "def trainingSpiral(trainData,testData, h, K, epochs, trackingJ=False):\n",
    "    d = len(trainData[0][:,0])\n",
    "    n = len(trainData[0][0])\n",
    "    batch_size = n\n",
    "    W, b, w, my = initWeights(K, d)\n",
    "    one = np.ones((batch_size,1))\n",
    "    mW,mb,mw,mmy = np.zeros_like(W),np.zeros_like(b),np.zeros_like(w),0\n",
    "    vW,vb,vw,vmy = np.zeros_like(W),np.zeros_like(b),np.zeros_like(w),0\n",
    "    c = trainData[1]\n",
    "    Y0 = trainData[0] #Bilder\n",
    "    Y = np.zeros((K+1, d, batch_size))\n",
    "    Y[0] = Y0 \n",
    "    \n",
    "    trackJ = np.zeros(int(epochs/100)+1)\n",
    "    for j in range(epochs):\n",
    "        \n",
    "        Y = feedForward(Y, one, h, K, my, W, b, w)\n",
    "        Z = projection(Y,w,my,one)\n",
    "        gradJ = gradient(Y, Z, c, one, batch_size, K, w, b, W, d, my, h)\n",
    "        W, mW, vW = adamDescent(mW, vW, gradJ[0], j+1, W) \n",
    "        b,mb, vb = adamDescent(mb, vb, gradJ[1], j+1, b) \n",
    "        w,mw, vw = adamDescent(mw, vw, gradJ[2], j+1, w) \n",
    "        my,mmy, vmy = adamDescent(mmy, vmy, gradJ[3], j+1, my)\n",
    "        if trackingJ and j%100==0:\n",
    "            trackJ[int(j/100)] = costFunc(Z,c)\n",
    "    \n",
    "    if trackingJ: \n",
    "            x = np.arange(int(epochs/100+1))\n",
    "            plt.figure()\n",
    "            plt.title(r\"Cost function after each epoch\")\n",
    "            plt.ylabel(r\"$J(U^{(j)})$\")\n",
    "            plt.xlabel(r\"Training epochs(*100)\")\n",
    "            plt.plot(x, trackJ, 'r')\n",
    "            plt.show()\n",
    "    return W, b, w, my\n",
    "    "
   ]
  }
 ],
 "metadata": {
  "kernelspec": {
   "display_name": "Python 3",
   "language": "python",
   "name": "python3"
  },
  "language_info": {
   "codemirror_mode": {
    "name": "ipython",
    "version": 3
   },
   "file_extension": ".py",
   "mimetype": "text/x-python",
   "name": "python",
   "nbconvert_exporter": "python",
   "pygments_lexer": "ipython3",
   "version": "3.7.1"
  }
 },
 "nbformat": 4,
 "nbformat_minor": 2
}

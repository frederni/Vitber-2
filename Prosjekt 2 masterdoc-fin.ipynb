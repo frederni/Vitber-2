{
 "cells": [
  {
   "cell_type": "markdown",
   "metadata": {},
   "source": [
    "# Project 2:\n",
    "## Authors: Frederick Nilsen, Mia Rødde, Sara Abnar"
   ]
  },
  {
   "cell_type": "markdown",
   "metadata": {},
   "source": [
    "### Warnings\n",
    "\n",
    "* Ikke endre uten at de andre vet det\n",
    "* **Alltid** gå på Kernel -> Restart & Clear Output\n",
    "* Ikke skriv utenfor cellene og sånn"
   ]
  },
  {
   "cell_type": "markdown",
   "metadata": {},
   "source": [
    "## Implementation of set 1 - points in 2D"
   ]
  },
  {
   "cell_type": "code",
   "execution_count": null,
   "metadata": {},
   "outputs": [],
   "source": [
    "## IMPORTS\n",
    "\n",
    "import numpy as np\n",
    "import matplotlib.pyplot as plt\n",
    "from loader import get_dataset\n",
    "import plotting\n",
    "from spirals import get_data_spiral_2d"
   ]
  },
  {
   "cell_type": "code",
   "execution_count": null,
   "metadata": {},
   "outputs": [],
   "source": [
    "## GLOBAL CONSTS AND DEFINITIONS\n",
    "\n",
    "sigma = lambda x : np.tanh(x)         # Activation function\n",
    "eta = lambda x : 0.5*(1+np.tanh(x/2)) # Scalar function     \n",
    "eta_ddx = lambda x :  0.25*(1-np.tanh(x/2)*np.tanh(x/2)) # Derivative of eta\n",
    "sigma_ddx = lambda x: 1-(np.tanh(x))**2 # Derivative of sigma\n",
    "\n",
    "\n",
    "K = 10 # +1 gives number of layers, arbitrary number\n",
    "d = 2 # Ehh\n",
    "tau = 0.1 # learning parameter [0.01,0.1]\n",
    "Y0, C = get_data_spiral_2d(200) #Default n=200\n",
    "I = Y0.shape[1]\n",
    "\n",
    "np.random.seed(0)\n",
    "W = np.random.randn(K,d,d)\n",
    "np.random.seed(0)\n",
    "b = np.random.randn(K,d,1)     #startverdier\n",
    "np.random.seed(0)\n",
    "mu = np.random.randn()\n",
    "np.random.seed(0)\n",
    "w = np.random.randn(d,1)\n",
    "h = 0.1\n",
    "\n",
    "Ulst = [W, b, w, mu]"
   ]
  },
  {
   "cell_type": "code",
   "execution_count": null,
   "metadata": {},
   "outputs": [],
   "source": [
    "## INITIALISATION CELL\n",
    "def getColorFromLabel(C):\n",
    "    colorLst = []\n",
    "    for el in C:\n",
    "        if el:\n",
    "            colorLst.append('r')\n",
    "        else:\n",
    "            colorLst.append('b')\n",
    "    return colorLst\n",
    "C_colors = getColorFromLabel(C)\n",
    "\n",
    "\n",
    "#optimert funksjon\n",
    "def YK(W, b, Ystart=Y0):\n",
    "    #tom Y-matrise, 3-dimensjonalt numpy-array\n",
    "    Ym = np.zeros((K+1,d,I))\n",
    "    Ym[0,:,:] = np.copy(Ystart)\n",
    "    k=0\n",
    "    while k < K:\n",
    "        Ym[k+1] = Ym[k] + h*sigma(W[k]@Ym[k] + b[k])\n",
    "        k+=1\n",
    "    return Ym\n",
    "\n",
    "#Finner P_K\n",
    "def getGradients(K, W, b, w, mu, c=C, Ystart=Y0):\n",
    "    Y_all = YK(W,b, Ystart)\n",
    "    lastY = Y_all[-1,:,:]\n",
    "    P = np.zeros((Y_all.shape)) # init matrix\n",
    "    P[K,:,:] = w@np.transpose((Zf(w,mu, lastY)-c)*eta_ddx(np.transpose(lastY)@w+mu))  #(7)\n",
    "    \n",
    "    dJdMU = eta_ddx(np.transpose(np.transpose(lastY)@w+mu))@(Zf(w,mu, lastY)-c)   #(5), kunne også brukt '.T' for transpose\n",
    "    dJdw = lastY@((Zf(w,mu, lastY)-c)*eta_ddx(np.transpose(lastY)@w+mu))              #(6)\n",
    "    for k in range(K,0,-1):\n",
    "        P[k-1,:,:] = P[k,:,:]+h*np.transpose(W[k-1,:,:])@(sigma_ddx(W[k-1,:,:]@Y_all[k-1,:,:]+b[k-1,:,:])*P[k,:,:])  #(8) \n",
    "    dJdWk = np.zeros((K,d,d))\n",
    "    dJdBk = np.zeros((K,d,1))\n",
    "    \n",
    "    for k in range(0,K):\n",
    "        dJdWk[k] = h*(P[k+1]*sigma_ddx(W[k,:,:]@Y_all[k,:,:]+b[k,:,:]))@np.transpose(Y_all[k,:,:])  #(9)\n",
    "        dJdBk[k] = h*(P[k+1]*sigma_ddx(W[k,:,:]@Y_all[k,:,:]+b[k,:,:]))@np.ones((I,1)) #One not needed?#(10)\n",
    "    return dJdWk, dJdBk, dJdw, dJdMU\n",
    "\n",
    "\n",
    "#Adam descent algorithm\n",
    "def AdamAlg(uParam, U_ind, lastM, lastV, c=C, Ystart=Y0):\n",
    "    beta1 = 0.9\n",
    "    beta2 = 0.999\n",
    "    alpha = 0.01\n",
    "    epsilon = 1e-8\n",
    "    g = getGradients(K, W, b, w, mu, c, Ystart)[U_ind]\n",
    "    m = beta1*lastM+(1-beta1)*g\n",
    "    v = beta2*lastV+(1-beta2)*(g*g)\n",
    "    mhat = m/(1-beta1**(counter))\n",
    "    vhat = v/(1-beta2**(counter))\n",
    "    uParam -= alpha*mhat/(np.sqrt(vhat)+epsilon)\n",
    "    lastM = m\n",
    "    lastV = v\n",
    "    return uParam, lastM, lastV"
   ]
  },
  {
   "cell_type": "raw",
   "metadata": {},
   "source": [
    "#NY ADAM\n",
    "def AdamAlg(Ulst, m, v, c=C, Ystart=Y0):\n",
    "    #print(\"lastM: \", lastM)\n",
    "    beta1 = 0.9\n",
    "    beta2 = 0.999\n",
    "    alpha = 0.01\n",
    "    epsilon = 1e-8\n",
    "    gradLst = [x for x in getGradients(K, W, b, w, mu, c, Ystart)]\n",
    "    for i in range(len(gradLst)):\n",
    "        g = gradLst[i]\n",
    "        m[i] = beta1*m[i]+(1-beta1)*g\n",
    "        v[i] = beta2*v[i]+(1-beta2)*(g*g)\n",
    "        mhat = m[i]/(1-beta1**(counter))\n",
    "        vhat = v[i]/(1-beta2**(counter))\n",
    "        Ulst[i] -= alpha*mhat/(np.sqrt(vhat)+epsilon)\n",
    "    return Ulst, m, v"
   ]
  },
  {
   "cell_type": "code",
   "execution_count": null,
   "metadata": {},
   "outputs": [],
   "source": [
    "#Lager siste Y_k = Y_K\n",
    "YK_list = YK(W,b)\n",
    "lastY = YK_list[-1,:,:]\n",
    "\n",
    "Zf = lambda w,mu,finalY=lastY : eta(np.transpose(finalY)@w +mu)\n",
    "Z=Zf(w,mu)\n",
    "Jf = lambda Z=Zf(w,mu), ce=C : 1/2*np.linalg.norm(Z-ce)**2 #Cost function\n",
    "J = Jf()"
   ]
  },
  {
   "cell_type": "raw",
   "metadata": {},
   "source": [
    "# Algorithm\n",
    "converged = False\n",
    "counter = 1\n",
    "\n",
    "#initializing list\n",
    "m = [0 for x in range len(Ulst)]\n",
    "v = [0 for x in range len(Ulst)]\n",
    "\n",
    "#for AdamAlg\n",
    "for i in range(1,10001):   #Skal være 40001\n",
    "    Ulst, m, v = AdamAlg(Ulst, m, v)\n",
    "    counter +=1 \n",
    "\n",
    "W, b, w, mu = Ulst"
   ]
  },
  {
   "cell_type": "raw",
   "metadata": {},
   "source": [
    "for i in range(1,5000):   #Skal være 40001\n",
    "    #print(YK_list)\n",
    "    dJdWk, dJdBk, dJdw, dJdMU = getGradients(K, W, b, w, mu)\n",
    "    W-=tau*dJdWk\n",
    "    b-=tau*dJdBk\n",
    "    w-=tau*dJdw\n",
    "    mu-=tau*dJdMU"
   ]
  },
  {
   "cell_type": "raw",
   "metadata": {},
   "source": [
    "from plotting import *\n",
    "\n",
    "testY, testC = get_data_spiral_2d(200)\n",
    "trainedY = YK(W, b, testY)\n",
    "print(Jf(Zf(w,mu, trainedY[-1,:,:]), testC))\n",
    "\n",
    "plot_progression(trainedY, getColorFromLabel(testC))\n",
    "\n",
    "#tau = 0.1: 8.665036835075993\n",
    "#tau = 0.08: 11.925073101031389"
   ]
  },
  {
   "cell_type": "raw",
   "metadata": {},
   "source": [
    "from plotting import *\n",
    "\n",
    "def checkResults(n=I):\n",
    "    testY, testC = get_data_spiral_2d(n)\n",
    "    trainedY = YK(W, b, testY)\n",
    "    lastY = trainedY[K,:,:]\n",
    "    trainedZ = Zf(w,mu,lastY)\n",
    "\n",
    "    J_new=Jf(trainedZ,testC)\n",
    "    numTrue=0\n",
    "    numJTrue = 0\n",
    "    print(J_new)\n",
    "    for i in range(n):\n",
    "        if testC[i][0]:\n",
    "            numTrue+=1\n",
    "        if trainedZ[i][0] >= 0.75:\n",
    "            numJTrue+=1\n",
    "    print(\"Antall true:\", numTrue)\n",
    "    print(\"Ifølge J:\", numJTrue)\n",
    "    print(\"Andel riktige, \", numJTrue/numTrue*100, \"%\", sep=\"\")\n",
    "    \n",
    "testY, testC = get_data_spiral_2d(200)\n",
    "trainedY = YK(W, b, testY)\n",
    "lastY = trainedY[K,:,:]\n",
    "trainedZ = Zf(w,mu,lastY)\n",
    "\n",
    "trainedY = YK(W, b, testY)\n",
    "plot_progression(trainedY, getColorFromLabel(testC))"
   ]
  },
  {
   "cell_type": "raw",
   "metadata": {},
   "source": [
    "\n",
    "\n",
    "for k in range(K):\n",
    "    plot_model(int_list, YK_list[k], C, I)\n",
    "\n"
   ]
  },
  {
   "cell_type": "raw",
   "metadata": {},
   "source": [
    "checkResults()"
   ]
  },
  {
   "cell_type": "code",
   "execution_count": null,
   "metadata": {},
   "outputs": [],
   "source": [
    "#INITIALISING LIST, PART 2\n",
    "pic, C_pic = get_dataset()\n",
    "K = 10 #number of layers, arbitrary number\n",
    "d = pic.shape[0]\n",
    "I = pic.shape[1]\n",
    "\n",
    "np.random.seed(0)\n",
    "W = np.random.randn(K,d,d)\n",
    "np.random.seed(0)\n",
    "b = np.random.randn(K,d,1)     #startverdier\n",
    "np.random.seed(0)\n",
    "mu = np.random.randn()\n",
    "np.random.seed(0)\n",
    "w = np.random.randn(d,1)\n",
    "h = 0.1"
   ]
  },
  {
   "cell_type": "code",
   "execution_count": null,
   "metadata": {},
   "outputs": [],
   "source": [
    "Y0pic, C_pic = get_dataset()\n",
    "d = Y0pic.shape[0]\n",
    "I = Y0pic.shape[1]\n",
    "\n",
    "\n",
    "#algorithm for pictures\n",
    "counter = 1\n",
    "\n",
    "#initializing list\n",
    "thisMWpic = thisVWpic = 0\n",
    "thisMbpic = thisVbpic = 0\n",
    "thisMwpic = thisVwpic = 0\n",
    "thisMmupic = thisVmupic = 0\n",
    "\n",
    "\n",
    "#for AdamAlg\n",
    "for i in range(1,11):   #Skal være 40001\n",
    "    W, thisMWpic, thisVWpic = AdamAlg(W, 0, thisMWpic, thisVWpic, C_pic, Y0pic)\n",
    "    b, thisMbpic, thisVbpic = AdamAlg(b, 1, thisMbpic, thisVbpic, C_pic, Y0pic)\n",
    "    w, thisMwpic, thisVwpic = AdamAlg(w, 2, thisMwpic, thisVwpic, C_pic, Y0pic)\n",
    "    mu, thisMmupic, thisVmupic = AdamAlg(mu, 3, thisMmupic, thisVmupic, C_pic, Y0pic)\n",
    "    counter +=1 \n",
    "    \n",
    "    \n",
    "testpic, testCp = get_dataset()\n",
    "trainedPic = YK(W, b, testpic)\n",
    "lastY = trainedPic[-1,:,:]\n",
    "print(Jf(Zf(w, mu, lastY), testCp))"
   ]
  },
  {
   "cell_type": "code",
   "execution_count": null,
   "metadata": {},
   "outputs": [],
   "source": []
  }
 ],
 "metadata": {
  "kernelspec": {
   "display_name": "Python 3",
   "language": "python",
   "name": "python3"
  },
  "language_info": {
   "codemirror_mode": {
    "name": "ipython",
    "version": 3
   },
   "file_extension": ".py",
   "mimetype": "text/x-python",
   "name": "python",
   "nbconvert_exporter": "python",
   "pygments_lexer": "ipython3",
   "version": "3.7.1"
  }
 },
 "nbformat": 4,
 "nbformat_minor": 2
}

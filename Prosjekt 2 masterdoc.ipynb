{
 "cells": [
  {
   "cell_type": "markdown",
   "metadata": {},
   "source": [
    "# Project 2 : :)\n",
    "## Authors: Frederick Nilsen, Mia Rødde, Sara Abnar"
   ]
  },
  {
   "cell_type": "markdown",
   "metadata": {},
   "source": [
    "### Warnings\n",
    "\n",
    "* Ikke endre uten at de andre vet det\n",
    "* **Alltid** gå på Kernel -> Restart & Clear Output\n",
    "* Ikke skriv utenfor cellene og sånn"
   ]
  },
  {
   "cell_type": "markdown",
   "metadata": {},
   "source": [
    "## Implementation of set 1 - points in 2D"
   ]
  },
  {
   "cell_type": "code",
   "execution_count": 4,
   "metadata": {},
   "outputs": [],
   "source": [
    "## IMPORTS\n",
    "\n",
    "import numpy as np\n",
    "import matplotlib.pyplot as plt\n",
    "import loader\n",
    "import plotting\n",
    "from spirals import get_data_spiral_2d"
   ]
  },
  {
   "cell_type": "code",
   "execution_count": 18,
   "metadata": {},
   "outputs": [],
   "source": [
    "## GLOBAL CONSTS AND DEFINITIONS\n",
    "\n",
    "sigma = lambda x : np.tanh(x)         # Activation function\n",
    "eta = lambda x : 0.5*(1+np.tanh(x/2)) # Scalar function     \n",
    "sech = lambda x : 1/np.cosh(x)\n",
    "eta_ddx = lambda x :  0.25*sech(x/2)*sech(x/2) # Derivative of eta\n",
    "sigma_ddx = lambda x: sech(x)*sech(x) # Derivative of sigma\n",
    "\n",
    "\n",
    "K = 3 # +1 gives number of layers, arbitrary number\n",
    "d = 2 # Ehh\n",
    "tau = 0.07 # learning parameter [0.01,0.1]\n",
    "Y0, C = get_data_spiral_2d(100) #Default n=200\n",
    "C_colors = getColorFromLabel(C)\n",
    "I = Y0.shape[1]\n",
    "One = np.full((I,2),1)\n",
    "W, b = np.random.randn(K,d,d), np.random.randn(K,d,1)     #startverdier\n",
    "mu = 1 #?\n",
    "w = np.random.randn(d,1)\n",
    "h = 0.1\n",
    "\n",
    "#U_i = [W, b, w, mu]"
   ]
  },
  {
   "cell_type": "code",
   "execution_count": 19,
   "metadata": {},
   "outputs": [
    {
     "ename": "IndentationError",
     "evalue": "expected an indented block (<ipython-input-4-f61faef558ce>, line 11)",
     "output_type": "error",
     "traceback": [
      "\u001b[1;36m  File \u001b[1;32m\"<ipython-input-4-f61faef558ce>\"\u001b[1;36m, line \u001b[1;32m11\u001b[0m\n\u001b[1;33m    getGradients()\u001b[0m\n\u001b[1;37m               ^\u001b[0m\n\u001b[1;31mIndentationError\u001b[0m\u001b[1;31m:\u001b[0m expected an indented block\n"
     ]
    }
   ],
   "source": [
    "## INITIALISATION CELL\n",
    "\n",
    "def getColorFromLabel(C):\n",
    "    colorLst = []\n",
    "    for el in C:\n",
    "        if el:\n",
    "            colorLst.append('r')\n",
    "        else:\n",
    "            colorLst.append('b')\n",
    "    return colorLst\n",
    "\n",
    "#optimert funksjon\n",
    "def YK(W, b):\n",
    "    #tom Y-matrise, 3-dimensjonalt numpy-array\n",
    "    Ym = np.zeros((K+1,d,I))\n",
    "    Ym[0,:,:] = np.copy(Y0)\n",
    "    k=0\n",
    "    while k < K:\n",
    "        Ym[k+1] = Ym[k] + h*sigma(W[k]@Ym[k] + b[k])\n",
    "        k+=1\n",
    "    return Ym\n",
    "\n",
    "\n",
    "\n",
    "#Finner P_K\n",
    "def getGradients(K, W,b,w,mu):\n",
    "    Y_all = YK(W,b)\n",
    "    lastY = Y_all[K-1,:,:]\n",
    "    P = np.full(Y_all.shape,0) # init matrix\n",
    "    P[K] = w@np.transpose((Z(w,mu)-C)*eta_ddx(np.transpose(lastY)@w+mu))  #(7)\n",
    "    dJdMU = eta_ddx(np.transpose(np.transpose(lastY)@w+mu))@(Z(w,mu)-C)   #(5), kunne også brukt .T for transpose\n",
    "    dJdw = lastY@((Z(w,mu)-C)*eta_ddx(np.transpose(lastY)@w+mu))              #(6)\n",
    "    for k in range(K,0,-1):\n",
    "        P[k-1] = P[k]+h*np.transpose(W[k-1,:,:])@(sigma_ddx(W[k-1,:,:]@Y_all[k-1,:,:]+b[k-1,:,:])*P[k])  #(8)  \n",
    "        #Endra til @\n",
    "        #Endra første W[k-a] ??\n",
    "        # feil med 'Y(k-1,W,b)' ??? alle matriser i lag k-1??\n",
    "    dJdWk = np.zeros((K,d,d))\n",
    "    dJdBk = np.zeros((K,d,1))\n",
    "    \n",
    "    for k in range(0,K-1):\n",
    "        dJdWk[k] = h*(P[k+1]*sigma_ddx(W[k,:,:]@Y_all[k,:,:]+b[k,:,:]))@np.transpose(Y_all[k,:,:])  #(9)\n",
    "        dJdBk[k] = h*(P[k+1]*sigma_ddx(W[k,:,:]@Y_all[k,:,:]+b[k,:,:]))@np.ones((I,1)) #One not needed?                     #(10)\n",
    "    return dJdWk, dJdBk, dJdw, dJdMU\n",
    "\n",
    "\n",
    "#Adam descent algorithn\n",
    "def AdamAlg(uParam, U_ind, lastM, lastV):\n",
    "    beta1 = 0.9\n",
    "    beta2 = 0.999\n",
    "    alpha = 0.01\n",
    "    epsilon = 1e-8\n",
    "    g = getGradients(K, W,b,w,mu)[U_ind]\n",
    "    m = beta1*lastM+(1-beta1)*g\n",
    "    v = beta2*lastV+(1-beta2)*(g*g)\n",
    "    mhat = m/(1-beta1**(counter)) # NB må altså :)\n",
    "    vhat = v/(1-beta2**(counter))\n",
    "    uParam -= alpha*mhat/(np.sqrt(vhat)+epsilon)\n",
    "    lastM = m\n",
    "    lastV = v\n",
    "    return uParam, lastM, lastV"
   ]
  },
  {
   "cell_type": "code",
   "execution_count": 20,
   "metadata": {},
   "outputs": [],
   "source": [
    "#Lager siste Y_k = Y_K\n",
    "YK_list = YK(W,b)\n",
    "lastY = YK_list[K-1]\n",
    "\n",
    "Z = lambda w,mu : eta(np.add(np.transpose(lastY)@w,mu))\n",
    "#print(\":)))\")\n",
    "J = 1/2*np.linalg.norm(Z(w,mu)-C)**2 # Cost function"
   ]
  },
  {
   "cell_type": "code",
   "execution_count": 21,
   "metadata": {},
   "outputs": [
    {
     "name": "stdout",
     "output_type": "stream",
     "text": [
      "W:  [[[ 0.83653107 -1.33566775]\n",
      "  [ 1.06738899 -1.36894085]]\n",
      "\n",
      " [[-0.2781349   0.71178343]\n",
      "  [-1.03097361  1.89329064]]\n",
      "\n",
      " [[ 0.73337091  0.44277997]\n",
      "  [ 0.31007823 -1.21009601]]]\n",
      "b:  [[[ 0.56402445]\n",
      "  [ 0.09696415]]\n",
      "\n",
      " [[-1.04260993]\n",
      "  [ 0.92460872]]\n",
      "\n",
      " [[ 0.90242179]\n",
      "  [-0.28883808]]]\n",
      "w:  [[0.18266147]\n",
      " [1.63437861]]\n",
      "mu:  [[-0.07401603]]\n"
     ]
    }
   ],
   "source": [
    "# Algorithm\n",
    "converged = False\n",
    "counter = 1\n",
    "\n",
    "#initializing list\n",
    "thisMW = thisVW = 0\n",
    "thisMb = thisVb = 0\n",
    "thisMw = thisVw = 0\n",
    "thisMmu = thisVmu = 0\n",
    "\n",
    "\n",
    "#for AdamAlg\n",
    "pltJ = []\n",
    "for i in range(1,10001):   #Skal være 40001\n",
    "    pltJ.append(J)\n",
    "    W, thisMW, thisVW = AdamAlg(W, 0, thisMW, thisVW)\n",
    "    b, thisMb, thisVb = AdamAlg(b, 1, thisMb, thisVb)\n",
    "    w, thisMw, thisVw = AdamAlg(w, 2, thisMw, thisVw)\n",
    "    mu, thisMmu, thisVmu = AdamAlg(mu, 3, thisMmu, thisVmu)\n",
    "    counter = i \n",
    "\n",
    "### Generate new Y with fitted weights\n",
    "testY, testC = "
   ]
  },
  {
   "cell_type": "code",
   "execution_count": 23,
   "metadata": {},
   "outputs": [
    {
     "data": {
      "image/png": "[encoded data removed]",
      "text/plain": [
       "<Figure size 432x288 with 1 Axes>"
      ]
     },
     "metadata": {
      "needs_background": "light"
     },
     "output_type": "display_data"
    },
    {
     "data": {
      "image/png": "[encoded data removed]",
      "text/plain": [
       "<Figure size 432x288 with 1 Axes>"
      ]
     },
     "metadata": {
      "needs_background": "light"
     },
     "output_type": "display_data"
    },
    {
     "data": {
      "image/png": "[encoded data removed]",
      "text/plain": [
       "<Figure size 432x288 with 1 Axes>"
      ]
     },
     "metadata": {
      "needs_background": "light"
     },
     "output_type": "display_data"
    },
    {
     "data": {
      "image/png": "[encoded data removed]",
      "text/plain": [
       "<Figure size 432x288 with 1 Axes>"
      ]
     },
     "metadata": {
      "needs_background": "light"
     },
     "output_type": "display_data"
    },
    {
     "ename": "AttributeError",
     "evalue": "'int' object has no attribute 'fast_forward'",
     "output_type": "error",
     "traceback": [
      "\u001b[1;31m---------------------------------------------------------------------------\u001b[0m",
      "\u001b[1;31mAttributeError\u001b[0m                            Traceback (most recent call last)",
      "\u001b[1;32m<ipython-input-23-c9455aa703f5>\u001b[0m in \u001b[0;36m<module>\u001b[1;34m\u001b[0m\n\u001b[0;32m      5\u001b[0m \u001b[0mint_list\u001b[0m \u001b[1;33m=\u001b[0m \u001b[0mYK_list\u001b[0m\u001b[1;33m.\u001b[0m\u001b[0mshape\u001b[0m\u001b[1;33m[\u001b[0m\u001b[1;36m2\u001b[0m\u001b[1;33m]\u001b[0m\u001b[1;33m\u001b[0m\u001b[1;33m\u001b[0m\u001b[0m\n\u001b[0;32m      6\u001b[0m \u001b[1;32mfor\u001b[0m \u001b[0mk\u001b[0m \u001b[1;32min\u001b[0m \u001b[0mrange\u001b[0m\u001b[1;33m(\u001b[0m\u001b[0mK\u001b[0m\u001b[1;33m)\u001b[0m\u001b[1;33m:\u001b[0m\u001b[1;33m\u001b[0m\u001b[1;33m\u001b[0m\u001b[0m\n\u001b[1;32m----> 7\u001b[1;33m     \u001b[0mplot_model\u001b[0m\u001b[1;33m(\u001b[0m\u001b[0mint_list\u001b[0m\u001b[1;33m,\u001b[0m \u001b[0mYK_list\u001b[0m\u001b[1;33m[\u001b[0m\u001b[0mk\u001b[0m\u001b[1;33m]\u001b[0m\u001b[1;33m,\u001b[0m \u001b[0mC\u001b[0m\u001b[1;33m,\u001b[0m \u001b[0mI\u001b[0m\u001b[1;33m)\u001b[0m\u001b[1;33m\u001b[0m\u001b[1;33m\u001b[0m\u001b[0m\n\u001b[0m\u001b[0;32m      8\u001b[0m \u001b[1;33m\u001b[0m\u001b[0m\n\u001b[0;32m      9\u001b[0m \u001b[1;31m#SPM: Blir plottene heelt like nå? :( men print(YK_list[1]-YK_list[0]) != 0 :((\u001b[0m\u001b[1;33m\u001b[0m\u001b[1;33m\u001b[0m\u001b[1;33m\u001b[0m\u001b[0m\n",
      "\u001b[1;32m~\\Documents\\Github\\Prosjekt 2\\Vitber-2\\plotting.py\u001b[0m in \u001b[0;36mplot_model\u001b[1;34m(model, Ys, C, n)\u001b[0m\n\u001b[0;32m     13\u001b[0m     \u001b[0mgrid\u001b[0m\u001b[1;33m,\u001b[0m \u001b[0mcoordinates\u001b[0m \u001b[1;33m=\u001b[0m \u001b[0mget_grid_and_stuff\u001b[0m\u001b[1;33m(\u001b[0m\u001b[0mYs\u001b[0m\u001b[1;33m,\u001b[0m \u001b[0mn\u001b[0m\u001b[1;33m)\u001b[0m\u001b[1;33m\u001b[0m\u001b[1;33m\u001b[0m\u001b[0m\n\u001b[0;32m     14\u001b[0m \u001b[1;33m\u001b[0m\u001b[0m\n\u001b[1;32m---> 15\u001b[1;33m     \u001b[0mZ\u001b[0m \u001b[1;33m=\u001b[0m \u001b[0mmodel\u001b[0m\u001b[1;33m.\u001b[0m\u001b[0mfast_forward\u001b[0m\u001b[1;33m(\u001b[0m\u001b[0mgrid\u001b[0m\u001b[1;33m)\u001b[0m\u001b[1;33m\u001b[0m\u001b[1;33m\u001b[0m\u001b[0m\n\u001b[0m\u001b[0;32m     16\u001b[0m     \u001b[0ml\u001b[0m \u001b[1;33m=\u001b[0m \u001b[0mnp\u001b[0m\u001b[1;33m.\u001b[0m\u001b[0mlinspace\u001b[0m\u001b[1;33m(\u001b[0m\u001b[1;36m0\u001b[0m\u001b[1;33m,\u001b[0m\u001b[1;36m1\u001b[0m\u001b[1;33m,\u001b[0m\u001b[1;36m8\u001b[0m\u001b[1;33m)\u001b[0m\u001b[1;33m\u001b[0m\u001b[1;33m\u001b[0m\u001b[0m\n\u001b[0;32m     17\u001b[0m     \u001b[0ml\u001b[0m \u001b[1;33m=\u001b[0m \u001b[0mnp\u001b[0m\u001b[1;33m.\u001b[0m\u001b[0marray\u001b[0m\u001b[1;33m(\u001b[0m\u001b[1;33m[\u001b[0m\u001b[0mshading\u001b[0m\u001b[1;33m(\u001b[0m\u001b[0mshading2\u001b[0m\u001b[1;33m(\u001b[0m\u001b[0mx\u001b[0m\u001b[1;33m)\u001b[0m\u001b[1;33m)\u001b[0m \u001b[1;32mfor\u001b[0m \u001b[0mx\u001b[0m \u001b[1;32min\u001b[0m \u001b[0ml\u001b[0m\u001b[1;33m]\u001b[0m\u001b[1;33m)\u001b[0m\u001b[1;33m\u001b[0m\u001b[1;33m\u001b[0m\u001b[0m\n",
      "\u001b[1;31mAttributeError\u001b[0m: 'int' object has no attribute 'fast_forward'"
     ]
    }
   ],
   "source": [
    "from plotting import *\n",
    "\n",
    "#Plotter de K lagene i Y0\n",
    "plot_progression(YK_list, C_colors)\n",
    "int_list = YK_list.shape[2]\n",
    "for k in range(K):\n",
    "    plot_model(int_list, YK_list[k], C, I)\n",
    "\n",
    "#SPM: Blir plottene heelt like nå? :( men print(YK_list[1]-YK_list[0]) != 0 :(("
   ]
  },
  {
   "cell_type": "code",
   "execution_count": null,
   "metadata": {},
   "outputs": [],
   "source": []
  },
  {
   "cell_type": "code",
   "execution_count": null,
   "metadata": {},
   "outputs": [],
   "source": []
  }
 ],
 "metadata": {
  "kernelspec": {
   "display_name": "Python 3",
   "language": "python",
   "name": "python3"
  },
  "language_info": {
   "codemirror_mode": {
    "name": "ipython",
    "version": 3
   },
   "file_extension": ".py",
   "mimetype": "text/x-python",
   "name": "python",
   "nbconvert_exporter": "python",
   "pygments_lexer": "ipython3",
   "version": "3.7.4"
  }
 },
 "nbformat": 4,
 "nbformat_minor": 2
}

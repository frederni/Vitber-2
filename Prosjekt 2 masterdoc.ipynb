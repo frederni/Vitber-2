{
 "cells": [
  {
   "cell_type": "markdown",
   "metadata": {},
   "source": [
    "# Project 2 : :)\n",
    "## Authors:"
   ]
  },
  {
   "cell_type": "markdown",
   "metadata": {},
   "source": [
    "### Warnings\n",
    "\n",
    "* Ikke endre uten at de andre vet det\n",
    "* **Alltid** gå på Kernel -> Restart & Clear Output\n",
    "* Ikke skriv utenfor cellene og sånn"
   ]
  },
  {
   "cell_type": "code",
   "execution_count": null,
   "metadata": {},
   "outputs": [],
   "source": [
    "## IMPORTS\n",
    "import numpy as np\n",
    "import matplotlib.pyplot as plt\n",
    "import loader\n",
    "import plotting\n",
    "from spirals import get_data_spiral_2d\n",
    "\n",
    "## GLOBAL CONSTS AND DEFINITIONS\n",
    "sigma = lambda x : np.tanh(x)         # Activation function\n",
    "eta = lambda x : 0.5*(1+np.tanh(x/2)) # Scalar function     \n",
    "sech = lambda x : 1/np.cosh(x)\n",
    "eta_ddx = lambda x :  0.25*sech(x/2)*sech(x/2) # Derivative of eta\n",
    "sigma_ddx = lambda x: sech(x)*sech(x) # Derivative of sigma\n",
    "h = 0.1                               # Step length          \n",
    "#_____________________________________________________________"
   ]
  },
  {
   "cell_type": "code",
   "execution_count": null,
   "metadata": {},
   "outputs": [],
   "source": [
    "One = np.full((I,2),1)\n",
    "\n",
    "## Adam descent algorithn\n",
    "def AdamAlg():\n",
    "    beta1 = 0.9\n",
    "    beta2 = 0.999\n",
    "    alpha = 0.01\n",
    "    epsilon = 1e-8\n",
    "    v[0] = 0\n",
    "    m[0] = 0\n",
    "    k =3 #Debug\n",
    "    g = [0 for i in range(2*K+2)]\n",
    "    m = [0 for i in range(2*K+2)]\n",
    "    v = [0 for i in range(2*K+2)]\n",
    "    mhat = [0 for i in range(2*K+2)]\n",
    "    vhat = [0 for i in range(2*K+2)]\n",
    "    for j in range(2*K+2):\n",
    "        g[j] = uGrad(J(U[j]))\n",
    "        m[j] = beta1*m[j-1]+(1-beta1)*g[j]\n",
    "        v[j] = beta2*v[j-1]+(1-beta2)(g[j]*g[j])\n",
    "        mhat[j] = m[j]/(1-beta1**(j+1))\n",
    "        vhat[j] = v[j]/(1-beta2**(j+1))\n",
    "        U[j+1] -= alpha*mhat[j]/(np.sqrt(vhat[j])+e)\n",
    "    \n",
    "def getGradients():\n",
    "    P = np.full(Y0.shape,0) # init matrix\n",
    "    P[K] = omega*np.transpose((Z(w,mu)-C)*eta_ddx(np.transpose(Y(K,W,b))*w+mu*One))\n",
    "    dJdMU = eta_ddx(np.transpose(np.transpose(Y[K])*omega+mu*One)*(Z-c))\n",
    "    dJdOmega = Y[K]*((Z-c)*eta_ddx(np.transpose(Y[K])*omega+mu))\n",
    "    for k in range(K,-1,2):\n",
    "        P[k-1] = P[k]+h*np.transpose(W[k-1])*(sigma_ddx(W[k-1]*Y(k-1,W,b)+b[k-1])*P[k])\n",
    "    for k in range(0,K-1):\n",
    "        dJdWk[k] = h(P[k+1]*sigma_ddx(W[k]*Y[k]+b[k]))*np.transpose(Y[k])\n",
    "        dJdBk[k] = h(P[k+1]*sigma_ddx(W[k]*Y[k]+b[k]))*One\n",
    "    return dJdWk, dJdBk, dJdOmega, dJdMU\n",
    "### THINGS IM UNCERTAIN ABOUT\n",
    "# Matrix mult @ or * for eq (9) and (10)??\n",
    "# First for-loop in getGradients, is the range correct?\n",
    "# Parameters for Adam alg?\n",
    "# What is Y[k]?\n",
    "# How to readData()?\n",
    "# How to check if converged? And when?\n",
    "# Hvordan få posisjon til farge?\n",
    "# Må vi ha forskjellgie b_k? Hva menes med b_{k-1}?\n",
    "# Hva gjør egentlig Adam Descent Alg.? (Hva er U?)\n",
    "# Random startverdier for vekter og bias: på hvilket intervall??\n",
    "# Hvor mange verdier for Bk og Wk må vi lage?\n",
    "# Er Wk=2x2 og Bk=2x1?"
   ]
  },
  {
   "cell_type": "code",
   "execution_count": null,
   "metadata": {},
   "outputs": [],
   "source": [
    "# Algorithm\n",
    "K = 4 # Amount of layers, arbitrary number\n",
    "d = 3 # Ehh\n",
    "tau = 0.07 # learning parameter [0.01,0.1]\n",
    "Y0 = readData() # To be implemented\n",
    "Wk, bk = np.random.randn(k,d,d), np.random.randn(k,d,1)\n",
    "converged = False\n",
    "while not converged:\n",
    "    for k in range(1,K):\n",
    "        #Calculate Y[k] and save to memory\n",
    "    getGradients()\n",
    "    AdamAlg()\n",
    "    converged = True #Only one iteration when debugging"
   ]
  },
  {
   "cell_type": "markdown",
   "metadata": {},
   "source": [
    "## Implementation of set 1 - points in 2D"
   ]
  },
  {
   "cell_type": "code",
   "execution_count": null,
   "metadata": {},
   "outputs": [],
   "source": [
    "from spirals import get_data_spiral_2d\n",
    "import numpy as np\n",
    "Y0, C = get_data_spiral_2d() # Default n=200\n",
    "I = Y0.shape[1]\n",
    "W = np.array([[1,1], [1,1]])\n",
    "b = np.array([[1],[1]])\n",
    "#b = np.array([[1 for i in range(I)], [1 for i in range(I)]]) # [1, 1, 1, ... i times], [1,1,1, .. i times], in order to add bk\n",
    "K = 4 #debug\n",
    "mu = 1 #?\n",
    "w = 1 #?\n",
    "h = 0.1\n",
    "def Y(k, W, b):\n",
    "    assert k>=0\n",
    "    if k==0:\n",
    "        return Y0\n",
    "    else:\n",
    "        return Y(k-1, W, b)+h*sigma(W@Y(k-1, W, b)+b)\n",
    "lastY = Y(K, W, b)\n",
    "Z = lambda w,mu : eta(np.add(np.transpose(lastY)*w,np.full((I,2),mu))) # NB SPØR STUDASS\n",
    "print(\":)))\")\n",
    "J = 1/2*np.linalg.norm(Z(w,mu)-C)**2 # Cost function\n",
    "print(J)\n"
   ]
  },
  {
   "cell_type": "code",
   "execution_count": null,
   "metadata": {},
   "outputs": [],
   "source": []
  }
 ],
 "metadata": {
  "kernelspec": {
   "display_name": "Python 3",
   "language": "python",
   "name": "python3"
  },
  "language_info": {
   "codemirror_mode": {
    "name": "ipython",
    "version": 3
   },
   "file_extension": ".py",
   "mimetype": "text/x-python",
   "name": "python",
   "nbconvert_exporter": "python",
   "pygments_lexer": "ipython3",
   "version": "3.7.4"
  }
 },
 "nbformat": 4,
 "nbformat_minor": 2
}

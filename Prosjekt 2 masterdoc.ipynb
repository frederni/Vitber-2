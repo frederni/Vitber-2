{
 "cells": [
  {
   "cell_type": "markdown",
   "metadata": {},
   "source": [
    "# Project 2 : :)\n",
    "## Authors:"
   ]
  },
  {
   "cell_type": "markdown",
   "metadata": {},
   "source": [
    "### Warnings\n",
    "\n",
    "* Ikke endre uten at de andre vet det\n",
    "* **Alltid** gå på Kernel -> Restart & Clear Output\n",
    "* Ikke skriv utenfor cellene og sånn"
   ]
  },
  {
   "cell_type": "markdown",
   "metadata": {},
   "source": [
    "## Implementation of set 1 - points in 2D"
   ]
  },
  {
   "cell_type": "code",
   "execution_count": null,
   "metadata": {},
   "outputs": [],
   "source": [
    "## IMPORTS\n",
    "import numpy as np\n",
    "import matplotlib.pyplot as plt\n",
    "import loader\n",
    "import plotting\n",
    "from spirals import get_data_spiral_2d\n",
    "\n",
    "## GLOBAL CONSTS AND DEFINITIONS\n",
    "sigma = lambda x : np.tanh(x)         # Activation function\n",
    "eta = lambda x : 0.5*(1+np.tanh(x/2)) # Scalar function     \n",
    "sech = lambda x : 1/np.cosh(x)\n",
    "eta_ddx = lambda x :  0.25*sech(x/2)*sech(x/2) # Derivative of eta\n",
    "sigma_ddx = lambda x: sech(x)*sech(x) # Derivative of sigma\n",
    "h = 0.1                               # Step length          \n",
    "#_____________________________________________________________\n",
    "\n",
    "One = np.full((I,2),1)\n",
    "print(I)"
   ]
  },
  {
   "cell_type": "code",
   "execution_count": null,
   "metadata": {},
   "outputs": [],
   "source": [
    "# Algorithm\n",
    "K = 4 # Amount of layers, arbitrary number\n",
    "d = 3 # Ehh\n",
    "tau = 0.07 # learning parameter [0.01,0.1]\n",
    "Y0 = readData() # To be implemented\n",
    "Wk, bk = np.random.randn(K,d,d), np.random.randn(K,d,1)\n",
    "converged = False\n",
    "while not converged:\n",
    "    for k in range(1,K):\n",
    "        #Calculate Y[k] and save to memory\n",
    "    getGradients()\n",
    "    AdamAlg()\n",
    "    converged = True #Only one iteration when debugging"
   ]
  },
  {
   "cell_type": "code",
   "execution_count": null,
   "metadata": {},
   "outputs": [],
   "source": [
    "from spirals import get_data_spiral_2d\n",
    "import numpy as np\n",
    "Y0, C = get_data_spiral_2d() # Default n=200\n",
    "I = Y0.shape[1]\n",
    "W = np.array([[1,1], [1,1]])\n",
    "K=4\n",
    "#b = np.array([[1],[1]])\n",
    "b = np.ones((K,2,1))\n",
    "#b[k-1,:,:]\n",
    "#b = np.array([[1 for i in range(I)], [1 for i in range(I)]]) # [1, 1, 1, ... i times], [1,1,1, .. i times], in order to add bk\n",
    "K = 4 #debug\n",
    "mu = 1 #?\n",
    "w = 1 #?\n",
    "h = 0.1\n",
    "def Y(k, W, b):\n",
    "    assert k>=0\n",
    "    if k==0:\n",
    "        return Y0\n",
    "    else:\n",
    "        return Y(k-1, W, b)+h*sigma(W@Y(k-1, W, b)+b)\n",
    "lastY = Y(K, W, b)[K-1]\n",
    "print(lastY.shape)\n",
    "\n",
    "\n",
    "Z = lambda w,mu : eta(np.add(np.transpose(lastY)*w,np.ones((200,2)))) # NB SPØR STUDASS\n",
    "print(\":)))\")\n",
    "J = 1/2*np.linalg.norm(Z(w,mu)-C)**2 # Cost function\n",
    "print(J)"
   ]
  },
  {
   "cell_type": "code",
   "execution_count": null,
   "metadata": {},
   "outputs": [],
   "source": [
    "\n",
    "\n",
    "## Adam descent algorithn\n",
    "def AdamAlg():\n",
    "    beta1 = 0.9\n",
    "    beta2 = 0.999\n",
    "    alpha = 0.01\n",
    "    epsilon = 1e-8\n",
    "    g = getGradients()\n",
    "    if counter==1:\n",
    "        lastM = 0\n",
    "        lastV = 0\n",
    "    m = beta1*lastM+(1-beta1)*g\n",
    "    v = beta2*lastV+(1-beta2)*(g*g)\n",
    "    mhat = m/(1-beta1**(counter)) # NB må altså \n",
    "    vhat = v/(1-beta2**(counter))\n",
    "    U -= alpha*mhat/(np.sqrt(vhat)+epsilon)\n",
    "    lastM = m\n",
    "    lastV = v\n",
    "\n",
    "    \n",
    "def getGradients():\n",
    "    P = np.full(Y0.shape,0) # init matrix\n",
    "    P[K] = w*np.transpose((Z(w,mu)-C)*eta_ddx(np.transpose(Y(K,W,b))*w+mu*One))\n",
    "    dJdMU = eta_ddx(np.transpose(np.transpose(Y(K,W,b))*w+mu*One)*(Z(w,mu)-C))\n",
    "    dJdw = Y(K,W,b)*((Z(w,mu)-C)*eta_ddx(np.transpose(Y(K,W,b))*w+mu))\n",
    "    for k in range(K,0,-1):\n",
    "        P[k-1] = P[k]+h*np.transpose(W[k-1])*(sigma_ddx(W[k-1,:,:]*Y(k-1,W,b)+b[k-1,:,:])*P[k])\n",
    "    for k in range(0,K-1):\n",
    "        dJdWk[k] = h(P[k+1]*sigma_ddx(W[k,:,:]*Y(k,W,b)+b[k,:,:]))@np.transpose(Y(k,W,b))\n",
    "        dJdBk[k] = h(P[k+1]*sigma_ddx(W[k,:,:]*Y(k,W,b)+b[k,:,:]))@One\n",
    "    return dJdWk, dJdBk, dJdw, dJdMU\n",
    "\n",
    "\n",
    "# First for-loop in getGradients, is the range correct?\n",
    "# Parameters for Adam alg?\n",
    "# What is Y[k]? svart\n",
    "# How to readData()? svart\n",
    "# How to check if converged? And when? svart\n",
    "# Hvordan få posisjon til farge? svart\n",
    "# Må vi ha forskjellgie b_k? Hva menes med b_{k-1}?\n",
    "# Hva gjør egentlig Adam Descent Alg.? (Hva er U?)\n",
    "# Random startverdier for vekter og bias: på hvilket intervall??\n",
    "# Hvor mange verdier for Bk og Wk må vi lage?\n",
    "# Er Wk=2x2 og Bk=2x1?"
   ]
  },
  {
   "cell_type": "code",
   "execution_count": null,
   "metadata": {},
   "outputs": [],
   "source": [
    "#### OLD BUT GOLD ;)\n",
    "\n",
    "\n",
    "# Old adam algorithm\n",
    "    g = [0 for i in range(K)]\n",
    "    m = [0 for i in range(K)]\n",
    "    v = [0 for i in range(K)]\n",
    "    mhat = [0 for i in range(K)]\n",
    "    vhat = [0 for i in range(K)]\n",
    "    v[0] = 0\n",
    "    m[0]\n",
    "    for j in range(999):\n",
    "        g[j] = uGrad(J(U[j]))\n",
    "        m[j] = beta1*m[j-1]+(1-beta1)*g[j]\n",
    "        v[j] = beta2*v[j-1]+(1-beta2)(g[j]*g[j])\n",
    "        mhat[j] = m[j]/(1-beta1**(j+1))\n",
    "        vhat[j] = v[j]/(1-beta2**(j+1))\n",
    "        U[j+1] -= alpha*mhat[j]/(np.sqrt(vhat[j])+e)"
   ]
  },
  {
   "cell_type": "code",
   "execution_count": null,
   "metadata": {},
   "outputs": [],
   "source": [
    "matrix1 = np.array([[1,2,3], [2,3,4]])\n",
    "matrix2 = np.array([[1,4,8], [0,2,6], [1,6,2]])\n",
    "print(matrix1+matrix2)"
   ]
  },
  {
   "cell_type": "code",
   "execution_count": null,
   "metadata": {},
   "outputs": [],
   "source": []
  }
 ],
 "metadata": {
  "kernelspec": {
   "display_name": "Python 3",
   "language": "python",
   "name": "python3"
  },
  "language_info": {
   "codemirror_mode": {
    "name": "ipython",
    "version": 3
   },
   "file_extension": ".py",
   "mimetype": "text/x-python",
   "name": "python",
   "nbconvert_exporter": "python",
   "pygments_lexer": "ipython3",
   "version": "3.7.4"
  }
 },
 "nbformat": 4,
 "nbformat_minor": 2
}

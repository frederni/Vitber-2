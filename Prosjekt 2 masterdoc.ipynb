{
 "cells": [
  {
   "cell_type": "markdown",
   "metadata": {},
   "source": [
    "# Project 2 : :)\n",
    "## Authors:"
   ]
  },
  {
   "cell_type": "markdown",
   "metadata": {},
   "source": [
    "### Warnings\n",
    "\n",
    "* Ikke endre uten at de andre vet det\n",
    "* **Alltid** gå på Kernel -> Restart & Clear Output\n",
    "* Ikke skriv utenfor cellene og sånn"
   ]
  },
  {
   "cell_type": "markdown",
   "metadata": {},
   "source": [
    "## Implementation of set 1 - points in 2D"
   ]
  },
  {
   "cell_type": "code",
   "execution_count": null,
   "metadata": {},
   "outputs": [],
   "source": [
    "## IMPORTS\n",
    "\n",
    "import numpy as np\n",
    "import matplotlib.pyplot as plt\n",
    "import loader\n",
    "import plotting\n",
    "from spirals import get_data_spiral_2d"
   ]
  },
  {
   "cell_type": "code",
   "execution_count": null,
   "metadata": {},
   "outputs": [],
   "source": [
    "## GLOBAL CONSTS AND DEFINITIONS\n",
    "\n",
    "sigma = lambda x : np.tanh(x)         # Activation function\n",
    "eta = lambda x : 0.5*(1+np.tanh(x/2)) # Scalar function     \n",
    "sech = lambda x : 1/np.cosh(x)\n",
    "eta_ddx = lambda x :  0.25*sech(x/2)*sech(x/2) # Derivative of eta\n",
    "sigma_ddx = lambda x: sech(x)*sech(x) # Derivative of sigma\n",
    "\n",
    "\n",
    "K = 4 # Amount of layers, arbitrary number\n",
    "d = 2 # Ehh\n",
    "tau = 0.07 # learning parameter [0.01,0.1]\n",
    "Y0, C = get_data_spiral_2d() #Default n=200\n",
    "I = Y0.shape[1]\n",
    "One = np.full((I,2),1)\n",
    "K = 4 #debug\n",
    "W, b = np.random.randn(K,d,d), np.random.randn(K,d,1)     #startverdier\n",
    "mu = 1 #?\n",
    "w = np.random.randn(d,1)\n",
    "h = 0.1\n",
    "\n",
    "#U_i = [W, b, w, mu]"
   ]
  },
  {
   "cell_type": "code",
   "execution_count": null,
   "metadata": {},
   "outputs": [],
   "source": [
    "## INITIALISATION CELL\n",
    "\n",
    "\n",
    "#optimert funksjon\n",
    "def YK(W, b):\n",
    "    #tom Y-matrise, 3-dimensjonalt numpy-array\n",
    "    Ym = np.zeros((K+1,d,I))\n",
    "    Ym[0,:,:] = Y0\n",
    "    k=0\n",
    "    while k < K:\n",
    "        Ym[k+1] = Ym[k] + h*sigma(W[k]@Ym[k] + b[k])\n",
    "        k+=1\n",
    "    return Ym\n",
    "\n",
    "\n",
    "\n",
    "#Finner P_K\n",
    "def getGradients(K, W,b,w,mu):\n",
    "    Y_all = YK(W,b)\n",
    "    lastY = Y_all[K-1,:,:]\n",
    "    P = np.full(Y_all.shape,0) # init matrix\n",
    "    P[K] = w@np.transpose((Z(w,mu)-C)*eta_ddx(np.transpose(lastY)@w+mu))  #(7)\n",
    "    dJdMU = eta_ddx(np.transpose(np.transpose(lastY)@w+mu))@(Z(w,mu)-C)   #(5), kunne også brukt .T for transpose\n",
    "    dJdw = lastY@((Z(w,mu)-C)*eta_ddx(np.transpose(lastY)@w+mu))              #(6)\n",
    "    for k in range(K,0,-1):\n",
    "        P[k-1] = P[k]+h*np.transpose(W[k-1,:,:])@(sigma_ddx(W[k-1,:,:]@Y_all[k-1,:,:]+b[k-1,:,:])*P[k])  #(8)  \n",
    "        #Endra til @\n",
    "        #Endra første W[k-a] ??\n",
    "        # feil med 'Y(k-1,W,b)' ??? alle matriser i lag k-1??\n",
    "    dJdWk = np.zeros((K,d,d))\n",
    "    dJdBk = np.zeros((K,d,1))\n",
    "    \n",
    "    for k in range(0,K-1):\n",
    "        dJdWk[k] = h*(P[k+1]*sigma_ddx(W[k,:,:]@Y_all[k,:,:]+b[k,:,:]))@np.transpose(Y_all[k,:,:])  #(9)\n",
    "        dJdBk[k] = h*(P[k+1]*sigma_ddx(W[k,:,:]@Y_all[k,:,:]+b[k,:,:]))@np.ones((I,1)) #One not needed?                     #(10)\n",
    "    return dJdWk, dJdBk, dJdw, dJdMU\n",
    "\n",
    "\n",
    "#Adam descent algorithn\n",
    "def AdamAlg(uParam, U_ind):\n",
    "    beta1 = 0.9\n",
    "    beta2 = 0.999\n",
    "    alpha = 0.01\n",
    "    epsilon = 1e-8\n",
    "    g = getGradients(K, W,b,w,mu)[U_ind]\n",
    "    if firstRun==True:\n",
    "        lastM = 0\n",
    "        lastV = 0\n",
    "    m = beta1*lastM+(1-beta1)*g\n",
    "    v = beta2*lastV+(1-beta2)*(g*g)\n",
    "    mhat = m/(1-beta1**(counter)) # NB må altså :)\n",
    "    vhat = v/(1-beta2**(counter))\n",
    "    uParam -= alpha*mhat/(np.sqrt(vhat)+epsilon)\n",
    "    lastM = m\n",
    "    lastV = v\n",
    "    return uParam, lastM, lastV"
   ]
  },
  {
   "cell_type": "code",
   "execution_count": null,
   "metadata": {},
   "outputs": [],
   "source": [
    "#Lager siste Y_k = Y_K\n",
    "YK_list = YK(W,b)\n",
    "lastY = YK_list[K-1]\n",
    "\n",
    "Z = lambda w,mu : eta(np.add(np.transpose(lastY)@w,mu))\n",
    "#print(\":)))\")\n",
    "J = 1/2*np.linalg.norm(Z(w,mu)-C)**2 # Cost function"
   ]
  },
  {
   "cell_type": "code",
   "execution_count": null,
   "metadata": {},
   "outputs": [],
   "source": [
    "# Algorithm\n",
    "firstRun = True\n",
    "converged = False\n",
    "counter = 1\n",
    "\n",
    "#for adamalg\n",
    "\n",
    "pltJ = []\n",
    "for i in range(1,40001):\n",
    "    pltJ.append(J)\n",
    "    W[0] = AdamAlg(W, 0)\n",
    "    b[0] = AdamAlg(b, 1)\n",
    "    w[0] = AdamAlg(w,2)\n",
    "    mu[0] = AdamAlg(mu,3)\n",
    "    firstRun = False\n",
    "    counter = i \n",
    "    #converged = True #Only one iteration when debugging\n",
    "print(\"W: \", W)\n",
    "print(\"b: \", b)\n",
    "print(\"w: \", w)\n",
    "print(\"mu: \", mu)\n",
    "\n",
    "plt.plot(i,J,label=\"Cost function\")\n",
    "plt.legend()\n",
    "plt.show()"
   ]
  },
  {
   "cell_type": "code",
   "execution_count": null,
   "metadata": {},
   "outputs": [],
   "source": [
    "## QUESTIONS\n",
    "\n",
    "\n",
    "\n",
    "\n",
    "\n",
    "# First for-loop in getGradients, is the range correct?\n",
    "# Parameters for Adam alg?\n",
    "# What is Y[k]? svart\n",
    "# How to readData()? svart\n",
    "# How to check if converged? And when? svart\n",
    "# Hvordan få posisjon til farge? svart\n",
    "# Må vi ha forskjellgie b_k? Hva menes med b_{k-1}?\n",
    "# Hva gjør egentlig Adam Descent Alg.? (Hva er U?)\n",
    "# Random startverdier for vekter og bias: på hvilket intervall??\n",
    "# Hvor mange verdier for Bk og Wk må vi lage?\n",
    "# Er Wk=2x2 og Bk=2x1?"
   ]
  },
  {
   "cell_type": "code",
   "execution_count": null,
   "metadata": {},
   "outputs": [],
   "source": []
  }
 ],
 "metadata": {
  "kernelspec": {
   "display_name": "Python 3",
   "language": "python",
   "name": "python3"
  },
  "language_info": {
   "codemirror_mode": {
    "name": "ipython",
    "version": 3
   },
   "file_extension": ".py",
   "mimetype": "text/x-python",
   "name": "python",
   "nbconvert_exporter": "python",
   "pygments_lexer": "ipython3",
   "version": "3.7.1"
  }
 },
 "nbformat": 4,
 "nbformat_minor": 2
}
